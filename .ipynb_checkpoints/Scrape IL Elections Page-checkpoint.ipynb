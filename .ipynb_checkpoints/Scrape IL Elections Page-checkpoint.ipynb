{
 "cells": [
  {
   "cell_type": "code",
   "execution_count": 1,
   "metadata": {},
   "outputs": [],
   "source": [
    "from bs4 import BeautifulSoup\n",
    "import pandas as pd"
   ]
  },
  {
   "cell_type": "code",
   "execution_count": 2,
   "metadata": {},
   "outputs": [],
   "source": [
    "with open('illinois_early_vote_web.html') as f:\n",
    "    page = f.read()"
   ]
  },
  {
   "cell_type": "code",
   "execution_count": 3,
   "metadata": {},
   "outputs": [],
   "source": [
    "soup = BeautifulSoup(page, 'html5lib')"
   ]
  },
  {
   "cell_type": "code",
   "execution_count": 13,
   "metadata": {},
   "outputs": [],
   "source": [
    "df = pd.DataFrame(columns = ['county_name', 'ev_location', 'ev_address', 'ev_city_state_zip', 'ev_location_type', 'ev_dates', 'ev_hours', 'ev_notes'])"
   ]
  },
  {
   "cell_type": "code",
   "execution_count": 14,
   "metadata": {},
   "outputs": [
    {
     "name": "stdout",
     "output_type": "stream",
     "text": [
      "Kane County Kane County Clerk's Office\n",
      "{'county_name': 'Kane County', 'ev_location': \"Kane County Clerk's Office\", 'ev_address': '719 S Batavia Ave', 'ev_city_state_zip': 'Geneva, IL  60134', 'ev_location_type': 'Permanent Early Voting with Grace Period Registration', 'ev_dates': 'March 3, 5 & 6, 2020', 'ev_hours': '8:30 A.M. TO 4:30 P.M. Tue, Thur and Fri ', 'ev_notes': '\\xa0'}\n",
      "Kane County Kane County Clerk's Office\n",
      "{'county_name': 'Kane County', 'ev_location': \"Kane County Clerk's Office\", 'ev_address': '719 S Batavia Ave', 'ev_city_state_zip': 'Geneva, IL  60134', 'ev_location_type': 'Permanent Early Voting with Grace Period Registration', 'ev_dates': 'February 6, 2020 thru March 6, 2020', 'ev_hours': '8:30 A.M. TO 4:30 P.M. Monday thru Friday', 'ev_notes': '\\xa0'}\n"
     ]
    }
   ],
   "source": [
    "infoContainers = soup.findAll('div', {'class': 'infoContainers'})\n",
    "for c in infoContainers[1:]:\n",
    "    try:\n",
    "        headers = c.find('div', {'class': 'infoHeaders'}).findAll('asp:label')\n",
    "        county_name = headers[0].text\n",
    "        ev_location = headers[1].text\n",
    "        ev_address = headers[2].find('br').previousSibling\n",
    "        if len(headers[2].findAll('br')) > 1:\n",
    "            ev_city_state_zip = headers[2].findAll('br')[1].nextSibling\n",
    "        else:\n",
    "            ev_city_state_zip = headers[2].find('br').nextSibling\n",
    "        try:\n",
    "            ev_data_grid = c.nextSibling.find('table').findAll('tr')[1]\n",
    "            cells = ev_data_grid.findAll('td')\n",
    "            ev_location_type = cells[0].text\n",
    "            ev_dates = cells[1].text\n",
    "            ev_hours = cells[2].text\n",
    "            ev_notes = cells[3].text\n",
    "        except:\n",
    "            ev_location_type = None\n",
    "            ev_dates = None\n",
    "            ev_hours = None\n",
    "            ev_notes = None\n",
    "\n",
    "        results = {\n",
    "            'county_name': county_name,\n",
    "            'ev_location': ev_location,\n",
    "            'ev_address': ev_address,\n",
    "            'ev_city_state_zip': ev_city_state_zip,\n",
    "            'ev_location_type': ev_location_type,\n",
    "            'ev_dates': ev_dates,\n",
    "            'ev_hours': ev_hours,\n",
    "            'ev_notes': ev_notes\n",
    "        }     \n",
    "        df = df.append(results, ignore_index = True)\n",
    "        \n",
    "\n",
    "    except: # No early vote sites\n",
    "        pass\n",
    "    \n",
    "        \n",
    "        "
   ]
  },
  {
   "cell_type": "code",
   "execution_count": 15,
   "metadata": {},
   "outputs": [],
   "source": [
    "df.to_csv('illinois_ev_sites.csv', index = False)"
   ]
  },
  {
   "cell_type": "code",
   "execution_count": null,
   "metadata": {},
   "outputs": [],
   "source": []
  }
 ],
 "metadata": {
  "kernelspec": {
   "display_name": "Python 3",
   "language": "python",
   "name": "python3"
  },
  "language_info": {
   "codemirror_mode": {
    "name": "ipython",
    "version": 3
   },
   "file_extension": ".py",
   "mimetype": "text/x-python",
   "name": "python",
   "nbconvert_exporter": "python",
   "pygments_lexer": "ipython3",
   "version": "3.7.4"
  }
 },
 "nbformat": 4,
 "nbformat_minor": 2
}
