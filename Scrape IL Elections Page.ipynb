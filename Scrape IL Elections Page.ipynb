{
 "cells": [
  {
   "cell_type": "code",
   "execution_count": 34,
   "metadata": {},
   "outputs": [],
   "source": [
    "from bs4 import BeautifulSoup\n",
    "import pandas as pd"
   ]
  },
  {
   "cell_type": "code",
   "execution_count": 2,
   "metadata": {},
   "outputs": [],
   "source": [
    "with open('illinois_early_vote_web.html') as f:\n",
    "    page = f.read()"
   ]
  },
  {
   "cell_type": "code",
   "execution_count": 3,
   "metadata": {},
   "outputs": [],
   "source": [
    "soup = BeautifulSoup(page, 'html5lib')"
   ]
  },
  {
   "cell_type": "code",
   "execution_count": 35,
   "metadata": {},
   "outputs": [],
   "source": [
    "df = pd.DataFrame(columns = ['county_name', 'ev_location', 'ev_address', 'ev_city_state_zip', 'ev_location_type', 'ev_dates', 'ev_hours', 'ev_notes'])"
   ]
  },
  {
   "cell_type": "code",
   "execution_count": 45,
   "metadata": {},
   "outputs": [],
   "source": [
    "infoContainers = soup.findAll('div', {'class': 'infoContainers'})\n",
    "for c in infoContainers[1:]:\n",
    "    try:\n",
    "        headers = c.find('div', {'class': 'infoHeaders'}).findAll('asp:label')\n",
    "        county_name = headers[0].text\n",
    "        ev_location = headers[1].text\n",
    "        ev_address = headers[2].find('br').previousSibling\n",
    "        if len(headers[2].findAll('br')) > 1:\n",
    "            ev_city_state_zip = headers[2].findAll('br')[1].nextSibling\n",
    "        else:\n",
    "            ev_city_state_zip = headers[2].find('br').nextSibling\n",
    "        try:\n",
    "            ev_data_grid = c.nextSibling.find('table').findAll('tr')[1]\n",
    "            cells = ev_data_grid.findAll('td')\n",
    "            ev_location_type = cells[0].text\n",
    "            ev_dates = cells[1].text\n",
    "            ev_hours = cells[2].text\n",
    "            ev_notes = cells[3].text\n",
    "        except:\n",
    "            ev_location_type = None\n",
    "            ev_dates = None\n",
    "            ev_hours = None\n",
    "            ev_notes = None\n",
    "\n",
    "        results = {\n",
    "            'county_name': county_name,\n",
    "            'ev_location': ev_location,\n",
    "            'ev_address': ev_address,\n",
    "            'ev_city_state_zip': ev_city_state_zip,\n",
    "            'ev_location_type': ev_location_type,\n",
    "            'ev_dates': ev_dates,\n",
    "            'ev_hours': ev_hours,\n",
    "            'ev_notes': ev_notes\n",
    "        }\n",
    "        df = df.append(results, ignore_index = True)\n",
    "    except: # No early vote sites\n",
    "        pass\n",
    "    \n",
    "        \n",
    "        "
   ]
  },
  {
   "cell_type": "code",
   "execution_count": 46,
   "metadata": {},
   "outputs": [],
   "source": [
    "df.to_csv('illinois_ev_sites.csv', index = False)"
   ]
  },
  {
   "cell_type": "code",
   "execution_count": null,
   "metadata": {},
   "outputs": [],
   "source": []
  }
 ],
 "metadata": {
  "kernelspec": {
   "display_name": "Python 3",
   "language": "python",
   "name": "python3"
  },
  "language_info": {
   "codemirror_mode": {
    "name": "ipython",
    "version": 3
   },
   "file_extension": ".py",
   "mimetype": "text/x-python",
   "name": "python",
   "nbconvert_exporter": "python",
   "pygments_lexer": "ipython3",
   "version": "3.7.4"
  }
 },
 "nbformat": 4,
 "nbformat_minor": 2
}
